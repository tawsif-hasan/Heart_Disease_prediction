{
 "cells": [
  {
   "cell_type": "markdown",
   "metadata": {
    "papermill": {
     "duration": 0.033505,
     "end_time": "2021-04-26T13:22:49.748920",
     "exception": false,
     "start_time": "2021-04-26T13:22:49.715415",
     "status": "completed"
    },
    "tags": []
   },
   "source": [
    "# Hear Attack Analysis and Prediction Dataset\n",
    "\n",
    "This dataset contains information about people and there chances of having a heart stroke.\n",
    "\n",
    "\n",
    " **Dataset Information:**\n",
    "\n",
    "\n",
    "\n",
    "\n",
    "\n",
    "* Age : Age of the patient\n",
    "* Sex : Sex of the patient\n",
    "* exang: exercise induced angina (1 = yes; 0 = no)\n",
    "* ca: number of major vessels (0-3)\n",
    "* cp : Chest Pain type chest pain type\n",
    "    * Value 1: typical angina\n",
    "    * Value 2: atypical angina\n",
    "    * Value 3: non-anginal pain\n",
    "    * Value 4: asymptomatic\n",
    "* trtbps : resting blood pressure (in mm Hg)\n",
    "* chol : cholestoral in mg/dl fetched via BMI sensor\n",
    "* fbs : (fasting blood sugar > 120 mg/dl) (1 = true; 0 = false)\n",
    "* rest_ecg : resting electrocardiographic results\n",
    "    * Value 0: normal\n",
    "    * Value 1: having ST-T wave abnormality (T wave inversions and/or ST elevation or depression of > 0.05 mV)\n",
    "    * Value 2: showing probable or definite left ventricular hypertrophy by Estes' criteria\n",
    "* thalach : maximum heart rate achieved\n",
    "* target : \n",
    "    * 0 = less chance of heart attack \n",
    "    * 1 = more chance of heart attack\n",
    "    \n",
    "    \n",
    "\n",
    "**Objective:**\n",
    "\n",
    "\n",
    "\n",
    "\n",
    "* With the dataset provided for heart analysis, we have to analyse the possibilities of heart attack on the basis of various features, and then the prediction from the analysis will tell us that whether an individual is prone to heart attack or not. \n",
    "* The detailed analysis can proceed with the exploratory data analysis (EDA). \n",
    "* The classification for predication can be done using various machine learning model algorithms, choose the best suited model for heart attack analysis and finally save the model in the pickle (.pkl) file.\n",
    "\n",
    "\n",
    "**Questions to be answered:**\n",
    "\n",
    "\n",
    "\n",
    "\n",
    "\n",
    "* Does the age of a person contribute towards heart attack?\n",
    "* Are different types of chest pain related to each other or the possibility of getting a heart attack?\n",
    "* Does high blood pressure increase the risk of heart attack?\n",
    "* Does the choestrol level eventually contribute as a risk factor towards heart attack?\n",
    "\n"
   ]
  },
  {
   "cell_type": "code",
   "execution_count": 1,
   "metadata": {
    "execution": {
     "iopub.execute_input": "2021-04-26T13:22:49.818087Z",
     "iopub.status.busy": "2021-04-26T13:22:49.817014Z",
     "iopub.status.idle": "2021-04-26T13:22:49.821135Z",
     "shell.execute_reply": "2021-04-26T13:22:49.820446Z"
    },
    "papermill": {
     "duration": 0.039293,
     "end_time": "2021-04-26T13:22:49.821296",
     "exception": false,
     "start_time": "2021-04-26T13:22:49.782003",
     "status": "completed"
    },
    "tags": []
   },
   "outputs": [],
   "source": [
    "# Heart Attack Analysis and Prediction Dataset\n",
    "# Date: April 26, 2021"
   ]
  },
  {
   "cell_type": "code",
   "execution_count": 2,
   "metadata": {
    "execution": {
     "iopub.execute_input": "2021-04-26T13:22:49.901130Z",
     "iopub.status.busy": "2021-04-26T13:22:49.900425Z",
     "iopub.status.idle": "2021-04-26T13:22:51.296467Z",
     "shell.execute_reply": "2021-04-26T13:22:51.295939Z"
    },
    "papermill": {
     "duration": 1.440387,
     "end_time": "2021-04-26T13:22:51.296612",
     "exception": false,
     "start_time": "2021-04-26T13:22:49.856225",
     "status": "completed"
    },
    "tags": []
   },
   "outputs": [],
   "source": [
    "import numpy as np #linear algebra\n",
    "import pandas as pd #data processing\n",
    "\n",
    "import matplotlib.pyplot as plt #data visualization\n",
    "import seaborn as sns #data visualization\n",
    "\n",
    "import warnings\n",
    "warnings.filterwarnings(\"ignore\") #to ignore the warnings\n",
    "\n",
    "#for model building\n",
    "from sklearn.metrics import accuracy_score\n",
    "from sklearn.metrics import confusion_matrix\n",
    "from sklearn.preprocessing import StandardScaler\n",
    "from sklearn.linear_model import LogisticRegression\n",
    "from sklearn.neighbors import KNeighborsClassifier\n",
    "from sklearn.svm import SVC\n",
    "from sklearn.tree import DecisionTreeClassifier\n",
    "from sklearn.ensemble import RandomForestClassifier\n",
    "from sklearn.ensemble import GradientBoostingClassifier\n",
    "from sklearn.ensemble import AdaBoostClassifier\n",
    "import xgboost as xgb\n"
   ]
  },
  {
   "cell_type": "code",
   "execution_count": 3,
   "metadata": {
    "execution": {
     "iopub.execute_input": "2021-04-26T13:22:51.366192Z",
     "iopub.status.busy": "2021-04-26T13:22:51.365498Z",
     "iopub.status.idle": "2021-04-26T13:22:51.387212Z",
     "shell.execute_reply": "2021-04-26T13:22:51.386674Z"
    },
    "papermill": {
     "duration": 0.058443,
     "end_time": "2021-04-26T13:22:51.387358",
     "exception": false,
     "start_time": "2021-04-26T13:22:51.328915",
     "status": "completed"
    },
    "tags": []
   },
   "outputs": [],
   "source": [
    "#Reading the csv file heart.csv in variable \n",
    "df=pd.read_csv('/kaggle/input/heart-attack-analysis-prediction-dataset/heart.csv')"
   ]
  },
  {
   "cell_type": "code",
   "execution_count": 4,
   "metadata": {
    "execution": {
     "iopub.execute_input": "2021-04-26T13:22:51.463892Z",
     "iopub.status.busy": "2021-04-26T13:22:51.463250Z",
     "iopub.status.idle": "2021-04-26T13:22:51.488085Z",
     "shell.execute_reply": "2021-04-26T13:22:51.487527Z"
    },
    "papermill": {
     "duration": 0.068515,
     "end_time": "2021-04-26T13:22:51.488233",
     "exception": false,
     "start_time": "2021-04-26T13:22:51.419718",
     "status": "completed"
    },
    "tags": []
   },
   "outputs": [
    {
     "data": {
      "text/html": [
       "<div>\n",
       "<style scoped>\n",
       "    .dataframe tbody tr th:only-of-type {\n",
       "        vertical-align: middle;\n",
       "    }\n",
       "\n",
       "    .dataframe tbody tr th {\n",
       "        vertical-align: top;\n",
       "    }\n",
       "\n",
       "    .dataframe thead th {\n",
       "        text-align: right;\n",
       "    }\n",
       "</style>\n",
       "<table border=\"1\" class=\"dataframe\">\n",
       "  <thead>\n",
       "    <tr style=\"text-align: right;\">\n",
       "      <th></th>\n",
       "      <th>age</th>\n",
       "      <th>sex</th>\n",
       "      <th>cp</th>\n",
       "      <th>trtbps</th>\n",
       "      <th>chol</th>\n",
       "      <th>fbs</th>\n",
       "      <th>restecg</th>\n",
       "      <th>thalachh</th>\n",
       "      <th>exng</th>\n",
       "      <th>oldpeak</th>\n",
       "      <th>slp</th>\n",
       "      <th>caa</th>\n",
       "      <th>thall</th>\n",
       "      <th>output</th>\n",
       "    </tr>\n",
       "  </thead>\n",
       "  <tbody>\n",
       "    <tr>\n",
       "      <th>0</th>\n",
       "      <td>63</td>\n",
       "      <td>1</td>\n",
       "      <td>3</td>\n",
       "      <td>145</td>\n",
       "      <td>233</td>\n",
       "      <td>1</td>\n",
       "      <td>0</td>\n",
       "      <td>150</td>\n",
       "      <td>0</td>\n",
       "      <td>2.3</td>\n",
       "      <td>0</td>\n",
       "      <td>0</td>\n",
       "      <td>1</td>\n",
       "      <td>1</td>\n",
       "    </tr>\n",
       "    <tr>\n",
       "      <th>1</th>\n",
       "      <td>37</td>\n",
       "      <td>1</td>\n",
       "      <td>2</td>\n",
       "      <td>130</td>\n",
       "      <td>250</td>\n",
       "      <td>0</td>\n",
       "      <td>1</td>\n",
       "      <td>187</td>\n",
       "      <td>0</td>\n",
       "      <td>3.5</td>\n",
       "      <td>0</td>\n",
       "      <td>0</td>\n",
       "      <td>2</td>\n",
       "      <td>1</td>\n",
       "    </tr>\n",
       "    <tr>\n",
       "      <th>2</th>\n",
       "      <td>41</td>\n",
       "      <td>0</td>\n",
       "      <td>1</td>\n",
       "      <td>130</td>\n",
       "      <td>204</td>\n",
       "      <td>0</td>\n",
       "      <td>0</td>\n",
       "      <td>172</td>\n",
       "      <td>0</td>\n",
       "      <td>1.4</td>\n",
       "      <td>2</td>\n",
       "      <td>0</td>\n",
       "      <td>2</td>\n",
       "      <td>1</td>\n",
       "    </tr>\n",
       "    <tr>\n",
       "      <th>3</th>\n",
       "      <td>56</td>\n",
       "      <td>1</td>\n",
       "      <td>1</td>\n",
       "      <td>120</td>\n",
       "      <td>236</td>\n",
       "      <td>0</td>\n",
       "      <td>1</td>\n",
       "      <td>178</td>\n",
       "      <td>0</td>\n",
       "      <td>0.8</td>\n",
       "      <td>2</td>\n",
       "      <td>0</td>\n",
       "      <td>2</td>\n",
       "      <td>1</td>\n",
       "    </tr>\n",
       "    <tr>\n",
       "      <th>4</th>\n",
       "      <td>57</td>\n",
       "      <td>0</td>\n",
       "      <td>0</td>\n",
       "      <td>120</td>\n",
       "      <td>354</td>\n",
       "      <td>0</td>\n",
       "      <td>1</td>\n",
       "      <td>163</td>\n",
       "      <td>1</td>\n",
       "      <td>0.6</td>\n",
       "      <td>2</td>\n",
       "      <td>0</td>\n",
       "      <td>2</td>\n",
       "      <td>1</td>\n",
       "    </tr>\n",
       "  </tbody>\n",
       "</table>\n",
       "</div>"
      ],
      "text/plain": [
       "   age  sex  cp  trtbps  chol  fbs  restecg  thalachh  exng  oldpeak  slp  \\\n",
       "0   63    1   3     145   233    1        0       150     0      2.3    0   \n",
       "1   37    1   2     130   250    0        1       187     0      3.5    0   \n",
       "2   41    0   1     130   204    0        0       172     0      1.4    2   \n",
       "3   56    1   1     120   236    0        1       178     0      0.8    2   \n",
       "4   57    0   0     120   354    0        1       163     1      0.6    2   \n",
       "\n",
       "   caa  thall  output  \n",
       "0    0      1       1  \n",
       "1    0      2       1  \n",
       "2    0      2       1  \n",
       "3    0      2       1  \n",
       "4    0      2       1  "
      ]
     },
     "execution_count": 4,
     "metadata": {},
     "output_type": "execute_result"
    }
   ],
   "source": [
    "# looking at the first 5 rows of our data\n",
    "df.head()"
   ]
  },
  {
   "cell_type": "markdown",
   "metadata": {
    "papermill": {
     "duration": 0.032815,
     "end_time": "2021-04-26T13:22:51.557104",
     "exception": false,
     "start_time": "2021-04-26T13:22:51.524289",
     "status": "completed"
    },
    "tags": []
   },
   "source": [
    "**Observation:**\n",
    " \n",
    " * Seems like all the columns are already in int or float data types.\n",
    " * If the columns were not in int or float ( i.e they were categorical variables), we would have had to convert them for model building.\n",
    " * Few ways to do so are by using pd.get_dummies, one hot encoding, multi collinearity, label encoder etc."
   ]
  },
  {
   "cell_type": "code",
   "execution_count": 5,
   "metadata": {
    "execution": {
     "iopub.execute_input": "2021-04-26T13:22:51.651196Z",
     "iopub.status.busy": "2021-04-26T13:22:51.650078Z",
     "iopub.status.idle": "2021-04-26T13:22:51.658142Z",
     "shell.execute_reply": "2021-04-26T13:22:51.659954Z"
    },
    "papermill": {
     "duration": 0.070084,
     "end_time": "2021-04-26T13:22:51.660248",
     "exception": false,
     "start_time": "2021-04-26T13:22:51.590164",
     "status": "completed"
    },
    "tags": []
   },
   "outputs": [
    {
     "data": {
      "text/html": [
       "<div>\n",
       "<style scoped>\n",
       "    .dataframe tbody tr th:only-of-type {\n",
       "        vertical-align: middle;\n",
       "    }\n",
       "\n",
       "    .dataframe tbody tr th {\n",
       "        vertical-align: top;\n",
       "    }\n",
       "\n",
       "    .dataframe thead th {\n",
       "        text-align: right;\n",
       "    }\n",
       "</style>\n",
       "<table border=\"1\" class=\"dataframe\">\n",
       "  <thead>\n",
       "    <tr style=\"text-align: right;\">\n",
       "      <th></th>\n",
       "      <th>age</th>\n",
       "      <th>sex</th>\n",
       "      <th>cp</th>\n",
       "      <th>trtbps</th>\n",
       "      <th>chol</th>\n",
       "      <th>fbs</th>\n",
       "      <th>restecg</th>\n",
       "      <th>thalachh</th>\n",
       "      <th>exng</th>\n",
       "      <th>oldpeak</th>\n",
       "      <th>slp</th>\n",
       "      <th>caa</th>\n",
       "      <th>thall</th>\n",
       "      <th>output</th>\n",
       "    </tr>\n",
       "  </thead>\n",
       "  <tbody>\n",
       "    <tr>\n",
       "      <th>298</th>\n",
       "      <td>57</td>\n",
       "      <td>0</td>\n",
       "      <td>0</td>\n",
       "      <td>140</td>\n",
       "      <td>241</td>\n",
       "      <td>0</td>\n",
       "      <td>1</td>\n",
       "      <td>123</td>\n",
       "      <td>1</td>\n",
       "      <td>0.2</td>\n",
       "      <td>1</td>\n",
       "      <td>0</td>\n",
       "      <td>3</td>\n",
       "      <td>0</td>\n",
       "    </tr>\n",
       "    <tr>\n",
       "      <th>299</th>\n",
       "      <td>45</td>\n",
       "      <td>1</td>\n",
       "      <td>3</td>\n",
       "      <td>110</td>\n",
       "      <td>264</td>\n",
       "      <td>0</td>\n",
       "      <td>1</td>\n",
       "      <td>132</td>\n",
       "      <td>0</td>\n",
       "      <td>1.2</td>\n",
       "      <td>1</td>\n",
       "      <td>0</td>\n",
       "      <td>3</td>\n",
       "      <td>0</td>\n",
       "    </tr>\n",
       "    <tr>\n",
       "      <th>300</th>\n",
       "      <td>68</td>\n",
       "      <td>1</td>\n",
       "      <td>0</td>\n",
       "      <td>144</td>\n",
       "      <td>193</td>\n",
       "      <td>1</td>\n",
       "      <td>1</td>\n",
       "      <td>141</td>\n",
       "      <td>0</td>\n",
       "      <td>3.4</td>\n",
       "      <td>1</td>\n",
       "      <td>2</td>\n",
       "      <td>3</td>\n",
       "      <td>0</td>\n",
       "    </tr>\n",
       "    <tr>\n",
       "      <th>301</th>\n",
       "      <td>57</td>\n",
       "      <td>1</td>\n",
       "      <td>0</td>\n",
       "      <td>130</td>\n",
       "      <td>131</td>\n",
       "      <td>0</td>\n",
       "      <td>1</td>\n",
       "      <td>115</td>\n",
       "      <td>1</td>\n",
       "      <td>1.2</td>\n",
       "      <td>1</td>\n",
       "      <td>1</td>\n",
       "      <td>3</td>\n",
       "      <td>0</td>\n",
       "    </tr>\n",
       "    <tr>\n",
       "      <th>302</th>\n",
       "      <td>57</td>\n",
       "      <td>0</td>\n",
       "      <td>1</td>\n",
       "      <td>130</td>\n",
       "      <td>236</td>\n",
       "      <td>0</td>\n",
       "      <td>0</td>\n",
       "      <td>174</td>\n",
       "      <td>0</td>\n",
       "      <td>0.0</td>\n",
       "      <td>1</td>\n",
       "      <td>1</td>\n",
       "      <td>2</td>\n",
       "      <td>0</td>\n",
       "    </tr>\n",
       "  </tbody>\n",
       "</table>\n",
       "</div>"
      ],
      "text/plain": [
       "     age  sex  cp  trtbps  chol  fbs  restecg  thalachh  exng  oldpeak  slp  \\\n",
       "298   57    0   0     140   241    0        1       123     1      0.2    1   \n",
       "299   45    1   3     110   264    0        1       132     0      1.2    1   \n",
       "300   68    1   0     144   193    1        1       141     0      3.4    1   \n",
       "301   57    1   0     130   131    0        1       115     1      1.2    1   \n",
       "302   57    0   1     130   236    0        0       174     0      0.0    1   \n",
       "\n",
       "     caa  thall  output  \n",
       "298    0      3       0  \n",
       "299    0      3       0  \n",
       "300    2      3       0  \n",
       "301    1      3       0  \n",
       "302    1      2       0  "
      ]
     },
     "execution_count": 5,
     "metadata": {},
     "output_type": "execute_result"
    }
   ],
   "source": [
    "df.tail()"
   ]
  },
  {
   "cell_type": "code",
   "execution_count": 6,
   "metadata": {
    "execution": {
     "iopub.execute_input": "2021-04-26T13:22:51.748937Z",
     "iopub.status.busy": "2021-04-26T13:22:51.748064Z",
     "iopub.status.idle": "2021-04-26T13:22:51.751713Z",
     "shell.execute_reply": "2021-04-26T13:22:51.752168Z"
    },
    "papermill": {
     "duration": 0.043818,
     "end_time": "2021-04-26T13:22:51.752332",
     "exception": false,
     "start_time": "2021-04-26T13:22:51.708514",
     "status": "completed"
    },
    "tags": []
   },
   "outputs": [
    {
     "name": "stdout",
     "output_type": "stream",
     "text": [
      "Number of rows are 303 and number of columns are  14\n"
     ]
    }
   ],
   "source": [
    "print('Number of rows are',df.shape[0], 'and number of columns are ',df.shape[1])"
   ]
  },
  {
   "cell_type": "code",
   "execution_count": 7,
   "metadata": {
    "execution": {
     "iopub.execute_input": "2021-04-26T13:22:51.841148Z",
     "iopub.status.busy": "2021-04-26T13:22:51.840404Z",
     "iopub.status.idle": "2021-04-26T13:22:51.843426Z",
     "shell.execute_reply": "2021-04-26T13:22:51.843983Z"
    },
    "papermill": {
     "duration": 0.05822,
     "end_time": "2021-04-26T13:22:51.844174",
     "exception": false,
     "start_time": "2021-04-26T13:22:51.785954",
     "status": "completed"
    },
    "tags": []
   },
   "outputs": [
    {
     "name": "stdout",
     "output_type": "stream",
     "text": [
      "<class 'pandas.core.frame.DataFrame'>\n",
      "RangeIndex: 303 entries, 0 to 302\n",
      "Data columns (total 14 columns):\n",
      " #   Column    Non-Null Count  Dtype  \n",
      "---  ------    --------------  -----  \n",
      " 0   age       303 non-null    int64  \n",
      " 1   sex       303 non-null    int64  \n",
      " 2   cp        303 non-null    int64  \n",
      " 3   trtbps    303 non-null    int64  \n",
      " 4   chol      303 non-null    int64  \n",
      " 5   fbs       303 non-null    int64  \n",
      " 6   restecg   303 non-null    int64  \n",
      " 7   thalachh  303 non-null    int64  \n",
      " 8   exng      303 non-null    int64  \n",
      " 9   oldpeak   303 non-null    float64\n",
      " 10  slp       303 non-null    int64  \n",
      " 11  caa       303 non-null    int64  \n",
      " 12  thall     303 non-null    int64  \n",
      " 13  output    303 non-null    int64  \n",
      "dtypes: float64(1), int64(13)\n",
      "memory usage: 33.3 KB\n"
     ]
    }
   ],
   "source": [
    "df.info()"
   ]
  },
  {
   "cell_type": "markdown",
   "metadata": {
    "papermill": {
     "duration": 0.034168,
     "end_time": "2021-04-26T13:22:51.916257",
     "exception": false,
     "start_time": "2021-04-26T13:22:51.882089",
     "status": "completed"
    },
    "tags": []
   },
   "source": [
    "**Observation:**\n",
    "\n",
    "* There are no missing rows in the entire dataset.\n",
    "* All the columns except oldpeak (float) are of int data type."
   ]
  },
  {
   "cell_type": "code",
   "execution_count": 8,
   "metadata": {
    "execution": {
     "iopub.execute_input": "2021-04-26T13:22:51.987537Z",
     "iopub.status.busy": "2021-04-26T13:22:51.986912Z",
     "iopub.status.idle": "2021-04-26T13:22:51.993423Z",
     "shell.execute_reply": "2021-04-26T13:22:51.993891Z"
    },
    "papermill": {
     "duration": 0.043783,
     "end_time": "2021-04-26T13:22:51.994050",
     "exception": false,
     "start_time": "2021-04-26T13:22:51.950267",
     "status": "completed"
    },
    "tags": []
   },
   "outputs": [
    {
     "data": {
      "text/plain": [
       "age         0\n",
       "sex         0\n",
       "cp          0\n",
       "trtbps      0\n",
       "chol        0\n",
       "fbs         0\n",
       "restecg     0\n",
       "thalachh    0\n",
       "exng        0\n",
       "oldpeak     0\n",
       "slp         0\n",
       "caa         0\n",
       "thall       0\n",
       "output      0\n",
       "dtype: int64"
      ]
     },
     "execution_count": 8,
     "metadata": {},
     "output_type": "execute_result"
    }
   ],
   "source": [
    "df.isnull().sum()"
   ]
  },
  {
   "cell_type": "markdown",
   "metadata": {
    "papermill": {
     "duration": 0.035372,
     "end_time": "2021-04-26T13:22:52.064427",
     "exception": false,
     "start_time": "2021-04-26T13:22:52.029055",
     "status": "completed"
    },
    "tags": []
   },
   "source": [
    "**Observation:** There are no missing values."
   ]
  },
  {
   "cell_type": "code",
   "execution_count": 9,
   "metadata": {
    "execution": {
     "iopub.execute_input": "2021-04-26T13:22:52.138068Z",
     "iopub.status.busy": "2021-04-26T13:22:52.137418Z",
     "iopub.status.idle": "2021-04-26T13:22:52.142063Z",
     "shell.execute_reply": "2021-04-26T13:22:52.142534Z"
    },
    "papermill": {
     "duration": 0.042886,
     "end_time": "2021-04-26T13:22:52.142688",
     "exception": false,
     "start_time": "2021-04-26T13:22:52.099802",
     "status": "completed"
    },
    "tags": []
   },
   "outputs": [
    {
     "data": {
      "text/plain": [
       "Index(['age', 'sex', 'cp', 'trtbps', 'chol', 'fbs', 'restecg', 'thalachh',\n",
       "       'exng', 'oldpeak', 'slp', 'caa', 'thall', 'output'],\n",
       "      dtype='object')"
      ]
     },
     "execution_count": 9,
     "metadata": {},
     "output_type": "execute_result"
    }
   ],
   "source": [
    "df.columns"
   ]
  },
  {
   "cell_type": "code",
   "execution_count": 10,
   "metadata": {
    "execution": {
     "iopub.execute_input": "2021-04-26T13:22:52.217536Z",
     "iopub.status.busy": "2021-04-26T13:22:52.216904Z",
     "iopub.status.idle": "2021-04-26T13:22:52.228297Z",
     "shell.execute_reply": "2021-04-26T13:22:52.227667Z"
    },
    "papermill": {
     "duration": 0.050131,
     "end_time": "2021-04-26T13:22:52.228442",
     "exception": false,
     "start_time": "2021-04-26T13:22:52.178311",
     "status": "completed"
    },
    "tags": []
   },
   "outputs": [
    {
     "data": {
      "text/plain": [
       "1"
      ]
     },
     "execution_count": 10,
     "metadata": {},
     "output_type": "execute_result"
    }
   ],
   "source": [
    "df.duplicated().sum()"
   ]
  },
  {
   "cell_type": "markdown",
   "metadata": {
    "papermill": {
     "duration": 0.037646,
     "end_time": "2021-04-26T13:22:52.302041",
     "exception": false,
     "start_time": "2021-04-26T13:22:52.264395",
     "status": "completed"
    },
    "tags": []
   },
   "source": [
    "**Observation:** There is 1 duplicate row. Let's drop it!"
   ]
  },
  {
   "cell_type": "code",
   "execution_count": 11,
   "metadata": {
    "execution": {
     "iopub.execute_input": "2021-04-26T13:22:52.385579Z",
     "iopub.status.busy": "2021-04-26T13:22:52.384584Z",
     "iopub.status.idle": "2021-04-26T13:22:52.388441Z",
     "shell.execute_reply": "2021-04-26T13:22:52.388984Z"
    },
    "papermill": {
     "duration": 0.051082,
     "end_time": "2021-04-26T13:22:52.389161",
     "exception": false,
     "start_time": "2021-04-26T13:22:52.338079",
     "status": "completed"
    },
    "tags": []
   },
   "outputs": [
    {
     "name": "stdout",
     "output_type": "stream",
     "text": [
      "Number of rows are 302 and number of columns are  14\n"
     ]
    }
   ],
   "source": [
    "df.drop_duplicates(inplace=True)\n",
    "print('Number of rows are',df.shape[0], 'and number of columns are ',df.shape[1])"
   ]
  },
  {
   "cell_type": "code",
   "execution_count": 12,
   "metadata": {
    "execution": {
     "iopub.execute_input": "2021-04-26T13:22:52.465560Z",
     "iopub.status.busy": "2021-04-26T13:22:52.464657Z",
     "iopub.status.idle": "2021-04-26T13:22:52.525994Z",
     "shell.execute_reply": "2021-04-26T13:22:52.526458Z"
    },
    "papermill": {
     "duration": 0.101031,
     "end_time": "2021-04-26T13:22:52.526629",
     "exception": false,
     "start_time": "2021-04-26T13:22:52.425598",
     "status": "completed"
    },
    "tags": []
   },
   "outputs": [
    {
     "data": {
      "text/html": [
       "<div>\n",
       "<style scoped>\n",
       "    .dataframe tbody tr th:only-of-type {\n",
       "        vertical-align: middle;\n",
       "    }\n",
       "\n",
       "    .dataframe tbody tr th {\n",
       "        vertical-align: top;\n",
       "    }\n",
       "\n",
       "    .dataframe thead th {\n",
       "        text-align: right;\n",
       "    }\n",
       "</style>\n",
       "<table border=\"1\" class=\"dataframe\">\n",
       "  <thead>\n",
       "    <tr style=\"text-align: right;\">\n",
       "      <th></th>\n",
       "      <th>count</th>\n",
       "      <th>mean</th>\n",
       "      <th>std</th>\n",
       "      <th>min</th>\n",
       "      <th>25%</th>\n",
       "      <th>50%</th>\n",
       "      <th>75%</th>\n",
       "      <th>max</th>\n",
       "    </tr>\n",
       "  </thead>\n",
       "  <tbody>\n",
       "    <tr>\n",
       "      <th>age</th>\n",
       "      <td>302.0</td>\n",
       "      <td>54.420530</td>\n",
       "      <td>9.047970</td>\n",
       "      <td>29.0</td>\n",
       "      <td>48.00</td>\n",
       "      <td>55.5</td>\n",
       "      <td>61.00</td>\n",
       "      <td>77.0</td>\n",
       "    </tr>\n",
       "    <tr>\n",
       "      <th>sex</th>\n",
       "      <td>302.0</td>\n",
       "      <td>0.682119</td>\n",
       "      <td>0.466426</td>\n",
       "      <td>0.0</td>\n",
       "      <td>0.00</td>\n",
       "      <td>1.0</td>\n",
       "      <td>1.00</td>\n",
       "      <td>1.0</td>\n",
       "    </tr>\n",
       "    <tr>\n",
       "      <th>cp</th>\n",
       "      <td>302.0</td>\n",
       "      <td>0.963576</td>\n",
       "      <td>1.032044</td>\n",
       "      <td>0.0</td>\n",
       "      <td>0.00</td>\n",
       "      <td>1.0</td>\n",
       "      <td>2.00</td>\n",
       "      <td>3.0</td>\n",
       "    </tr>\n",
       "    <tr>\n",
       "      <th>trtbps</th>\n",
       "      <td>302.0</td>\n",
       "      <td>131.602649</td>\n",
       "      <td>17.563394</td>\n",
       "      <td>94.0</td>\n",
       "      <td>120.00</td>\n",
       "      <td>130.0</td>\n",
       "      <td>140.00</td>\n",
       "      <td>200.0</td>\n",
       "    </tr>\n",
       "    <tr>\n",
       "      <th>chol</th>\n",
       "      <td>302.0</td>\n",
       "      <td>246.500000</td>\n",
       "      <td>51.753489</td>\n",
       "      <td>126.0</td>\n",
       "      <td>211.00</td>\n",
       "      <td>240.5</td>\n",
       "      <td>274.75</td>\n",
       "      <td>564.0</td>\n",
       "    </tr>\n",
       "    <tr>\n",
       "      <th>fbs</th>\n",
       "      <td>302.0</td>\n",
       "      <td>0.149007</td>\n",
       "      <td>0.356686</td>\n",
       "      <td>0.0</td>\n",
       "      <td>0.00</td>\n",
       "      <td>0.0</td>\n",
       "      <td>0.00</td>\n",
       "      <td>1.0</td>\n",
       "    </tr>\n",
       "    <tr>\n",
       "      <th>restecg</th>\n",
       "      <td>302.0</td>\n",
       "      <td>0.526490</td>\n",
       "      <td>0.526027</td>\n",
       "      <td>0.0</td>\n",
       "      <td>0.00</td>\n",
       "      <td>1.0</td>\n",
       "      <td>1.00</td>\n",
       "      <td>2.0</td>\n",
       "    </tr>\n",
       "    <tr>\n",
       "      <th>thalachh</th>\n",
       "      <td>302.0</td>\n",
       "      <td>149.569536</td>\n",
       "      <td>22.903527</td>\n",
       "      <td>71.0</td>\n",
       "      <td>133.25</td>\n",
       "      <td>152.5</td>\n",
       "      <td>166.00</td>\n",
       "      <td>202.0</td>\n",
       "    </tr>\n",
       "    <tr>\n",
       "      <th>exng</th>\n",
       "      <td>302.0</td>\n",
       "      <td>0.327815</td>\n",
       "      <td>0.470196</td>\n",
       "      <td>0.0</td>\n",
       "      <td>0.00</td>\n",
       "      <td>0.0</td>\n",
       "      <td>1.00</td>\n",
       "      <td>1.0</td>\n",
       "    </tr>\n",
       "    <tr>\n",
       "      <th>oldpeak</th>\n",
       "      <td>302.0</td>\n",
       "      <td>1.043046</td>\n",
       "      <td>1.161452</td>\n",
       "      <td>0.0</td>\n",
       "      <td>0.00</td>\n",
       "      <td>0.8</td>\n",
       "      <td>1.60</td>\n",
       "      <td>6.2</td>\n",
       "    </tr>\n",
       "    <tr>\n",
       "      <th>slp</th>\n",
       "      <td>302.0</td>\n",
       "      <td>1.397351</td>\n",
       "      <td>0.616274</td>\n",
       "      <td>0.0</td>\n",
       "      <td>1.00</td>\n",
       "      <td>1.0</td>\n",
       "      <td>2.00</td>\n",
       "      <td>2.0</td>\n",
       "    </tr>\n",
       "    <tr>\n",
       "      <th>caa</th>\n",
       "      <td>302.0</td>\n",
       "      <td>0.718543</td>\n",
       "      <td>1.006748</td>\n",
       "      <td>0.0</td>\n",
       "      <td>0.00</td>\n",
       "      <td>0.0</td>\n",
       "      <td>1.00</td>\n",
       "      <td>4.0</td>\n",
       "    </tr>\n",
       "    <tr>\n",
       "      <th>thall</th>\n",
       "      <td>302.0</td>\n",
       "      <td>2.314570</td>\n",
       "      <td>0.613026</td>\n",
       "      <td>0.0</td>\n",
       "      <td>2.00</td>\n",
       "      <td>2.0</td>\n",
       "      <td>3.00</td>\n",
       "      <td>3.0</td>\n",
       "    </tr>\n",
       "    <tr>\n",
       "      <th>output</th>\n",
       "      <td>302.0</td>\n",
       "      <td>0.543046</td>\n",
       "      <td>0.498970</td>\n",
       "      <td>0.0</td>\n",
       "      <td>0.00</td>\n",
       "      <td>1.0</td>\n",
       "      <td>1.00</td>\n",
       "      <td>1.0</td>\n",
       "    </tr>\n",
       "  </tbody>\n",
       "</table>\n",
       "</div>"
      ],
      "text/plain": [
       "          count        mean        std    min     25%    50%     75%    max\n",
       "age       302.0   54.420530   9.047970   29.0   48.00   55.5   61.00   77.0\n",
       "sex       302.0    0.682119   0.466426    0.0    0.00    1.0    1.00    1.0\n",
       "cp        302.0    0.963576   1.032044    0.0    0.00    1.0    2.00    3.0\n",
       "trtbps    302.0  131.602649  17.563394   94.0  120.00  130.0  140.00  200.0\n",
       "chol      302.0  246.500000  51.753489  126.0  211.00  240.5  274.75  564.0\n",
       "fbs       302.0    0.149007   0.356686    0.0    0.00    0.0    0.00    1.0\n",
       "restecg   302.0    0.526490   0.526027    0.0    0.00    1.0    1.00    2.0\n",
       "thalachh  302.0  149.569536  22.903527   71.0  133.25  152.5  166.00  202.0\n",
       "exng      302.0    0.327815   0.470196    0.0    0.00    0.0    1.00    1.0\n",
       "oldpeak   302.0    1.043046   1.161452    0.0    0.00    0.8    1.60    6.2\n",
       "slp       302.0    1.397351   0.616274    0.0    1.00    1.0    2.00    2.0\n",
       "caa       302.0    0.718543   1.006748    0.0    0.00    0.0    1.00    4.0\n",
       "thall     302.0    2.314570   0.613026    0.0    2.00    2.0    3.00    3.0\n",
       "output    302.0    0.543046   0.498970    0.0    0.00    1.0    1.00    1.0"
      ]
     },
     "execution_count": 12,
     "metadata": {},
     "output_type": "execute_result"
    }
   ],
   "source": [
    "df.describe().T"
   ]
  },
  {
   "cell_type": "markdown",
   "metadata": {
    "papermill": {
     "duration": 0.037296,
     "end_time": "2021-04-26T13:22:52.601269",
     "exception": false,
     "start_time": "2021-04-26T13:22:52.563973",
     "status": "completed"
    },
    "tags": []
   },
   "source": [
    "**Observation:**\n",
    "\n",
    "* The average blood pressure of an individual is 130 whereas the maximun value goes upto 200.\n",
    "* The average heart rate of the group is 152, whereas overall it ranges between 133 to 202\n",
    "* Age of the group varies from 29 to 77 and the mean age is 55.5"
   ]
  },
  {
   "cell_type": "code",
   "execution_count": 13,
   "metadata": {
    "execution": {
     "iopub.execute_input": "2021-04-26T13:22:52.686055Z",
     "iopub.status.busy": "2021-04-26T13:22:52.685395Z",
     "iopub.status.idle": "2021-04-26T13:22:52.688085Z",
     "shell.execute_reply": "2021-04-26T13:22:52.688774Z"
    },
    "papermill": {
     "duration": 0.050064,
     "end_time": "2021-04-26T13:22:52.689013",
     "exception": false,
     "start_time": "2021-04-26T13:22:52.638949",
     "status": "completed"
    },
    "tags": []
   },
   "outputs": [
    {
     "name": "stdout",
     "output_type": "stream",
     "text": [
      "SEX :[1 0] \n",
      "CHOL :[233 250 204 236 354 192 294 263 199 168 239 275 266 211 283 219 340 226\n",
      " 247 234 243 302 212 175 417 197 198 177 273 213 304 232 269 360 308 245\n",
      " 208 264 321 325 235 257 216 256 231 141 252 201 222 260 182 303 265 309\n",
      " 186 203 183 220 209 258 227 261 221 205 240 318 298 564 277 214 248 255\n",
      " 207 223 288 160 394 315 246 244 270 195 196 254 126 313 262 215 193 271\n",
      " 268 267 210 295 306 178 242 180 228 149 278 253 342 157 286 229 284 224\n",
      " 206 167 230 335 276 353 225 330 290 172 305 188 282 185 326 274 164 307\n",
      " 249 341 407 217 174 281 289 322 299 300 293 184 409 259 200 327 237 218\n",
      " 319 166 311 169 187 176 241 131] \n",
      "TRTBPS :[145 130 120 140 172 150 110 135 160 105 125 142 155 104 138 128 108 134\n",
      " 122 115 118 100 124  94 112 102 152 101 132 148 178 129 180 136 126 106\n",
      " 156 170 146 117 200 165 174 192 144 123 154 114 164] \n",
      "CP :[3 2 1 0] \n",
      "THALL :[1 2 3 0] \n",
      "EXNG :[0 1] \n"
     ]
    }
   ],
   "source": [
    "#This is to look at what all unique values have . Just trying to use python\n",
    "list_col=['sex','chol','trtbps','cp','thall','exng']\n",
    "\n",
    "for col in list_col: \n",
    "    print('{} :{} ' . format(col.upper(),df[col].unique()))"
   ]
  },
  {
   "cell_type": "markdown",
   "metadata": {
    "papermill": {
     "duration": 0.037628,
     "end_time": "2021-04-26T13:22:52.766569",
     "exception": false,
     "start_time": "2021-04-26T13:22:52.728941",
     "status": "completed"
    },
    "tags": []
   },
   "source": [
    "**Observation:**\n",
    "\n",
    "* There are two sex : 0 and 1\n",
    "* The highest cholestrol level is 564 and the lowest is 126.\n",
    "* Resting Blood Pressure of individuals vary between 94 to 200.\n",
    "* There are 4 types of chest pain.\n",
    "* exercise induced angina has 2 types (1 = yes; 0 = no)"
   ]
  },
  {
   "cell_type": "code",
   "execution_count": 14,
   "metadata": {
    "execution": {
     "iopub.execute_input": "2021-04-26T13:22:52.845164Z",
     "iopub.status.busy": "2021-04-26T13:22:52.844495Z",
     "iopub.status.idle": "2021-04-26T13:22:53.006981Z",
     "shell.execute_reply": "2021-04-26T13:22:53.006414Z"
    },
    "papermill": {
     "duration": 0.202772,
     "end_time": "2021-04-26T13:22:53.007122",
     "exception": false,
     "start_time": "2021-04-26T13:22:52.804350",
     "status": "completed"
    },
    "tags": []
   },
   "outputs": [
    {
     "name": "stdout",
     "output_type": "stream",
     "text": [
      "Number of people having sex as 0 are 96 and Number of people having sex as 1 are 206\n"
     ]
    },
    {
     "data": {
      "image/png": "[encoded data removed]",
      "text/plain": [
       "<Figure size 432x288 with 1 Axes>"
      ]
     },
     "metadata": {
      "needs_background": "light"
     },
     "output_type": "display_data"
    }
   ],
   "source": [
    "print(f'Number of people having sex as 0 are {df.sex.value_counts()[0]} and Number of people having sex as 1 are {df.sex.value_counts()[1]}')\n",
    "p = sns.countplot(data=df, x=\"sex\", palette='pastel')\n",
    "plt.show()"
   ]
  },
  {
   "cell_type": "markdown",
   "metadata": {
    "papermill": {
     "duration": 0.03869,
     "end_time": "2021-04-26T13:22:53.084835",
     "exception": false,
     "start_time": "2021-04-26T13:22:53.046145",
     "status": "completed"
    },
    "tags": []
   },
   "source": [
    "**Observation:** \n",
    "\n",
    "* The number of people belonging to sex category 0 are 96 whereas 1 are 206.\n",
    "* The number of people in one category are more than double than the zero."
   ]
  },
  {
   "cell_type": "code",
   "execution_count": 15,
   "metadata": {
    "execution": {
     "iopub.execute_input": "2021-04-26T13:22:53.182244Z",
     "iopub.status.busy": "2021-04-26T13:22:53.172185Z",
     "iopub.status.idle": "2021-04-26T13:22:53.306623Z",
     "shell.execute_reply": "2021-04-26T13:22:53.306135Z"
    },
    "papermill": {
     "duration": 0.183733,
     "end_time": "2021-04-26T13:22:53.306758",
     "exception": false,
     "start_time": "2021-04-26T13:22:53.123025",
     "status": "completed"
    },
    "tags": []
   },
   "outputs": [
    {
     "data": {
      "text/plain": [
       "<AxesSubplot:xlabel='cp', ylabel='count'>"
      ]
     },
     "execution_count": 15,
     "metadata": {},
     "output_type": "execute_result"
    },
    {
     "data": {
      "image/png": "[encoded data removed]",
      "text/plain": [
       "<Figure size 432x288 with 1 Axes>"
      ]
     },
     "metadata": {
      "needs_background": "light"
     },
     "output_type": "display_data"
    }
   ],
   "source": [
    "sns.countplot(x='cp', data=df, palette='pastel')"
   ]
  },
  {
   "cell_type": "markdown",
   "metadata": {
    "papermill": {
     "duration": 0.040223,
     "end_time": "2021-04-26T13:22:53.387215",
     "exception": false,
     "start_time": "2021-04-26T13:22:53.346992",
     "status": "completed"
    },
    "tags": []
   },
   "source": [
    "**Observation:**\n",
    "\n",
    "* cp : Chest Pain type chest pain type\n",
    "\n",
    "    * Value 0: typical angina\n",
    "    * Value 1: atypical angina\n",
    "    * Value 2: non-anginal pain\n",
    "    * Value 3: asymptomatic\n",
    "    \n",
    "* People of chest pain category '0' have the highest count, whereas of count of chest pain '3' is the lowest"
   ]
  },
  {
   "cell_type": "code",
   "execution_count": 16,
   "metadata": {
    "execution": {
     "iopub.execute_input": "2021-04-26T13:22:53.586748Z",
     "iopub.status.busy": "2021-04-26T13:22:53.586100Z",
     "iopub.status.idle": "2021-04-26T13:22:53.692629Z",
     "shell.execute_reply": "2021-04-26T13:22:53.693246Z"
    },
    "papermill": {
     "duration": 0.266329,
     "end_time": "2021-04-26T13:22:53.693432",
     "exception": false,
     "start_time": "2021-04-26T13:22:53.427103",
     "status": "completed"
    },
    "tags": []
   },
   "outputs": [
    {
     "data": {
      "text/plain": [
       "<AxesSubplot:xlabel='fbs', ylabel='count'>"
      ]
     },
     "execution_count": 16,
     "metadata": {},
     "output_type": "execute_result"
    },
    {
     "data": {
      "image/png": "[encoded data removed]",
      "text/plain": [
       "<Figure size 432x288 with 1 Axes>"
      ]
     },
     "metadata": {
      "needs_background": "light"
     },
     "output_type": "display_data"
    }
   ],
   "source": [
    "sns.countplot(x='fbs', data=df, palette='pastel')"
   ]
  },
  {
   "cell_type": "markdown",
   "metadata": {
    "papermill": {
     "duration": 0.040209,
     "end_time": "2021-04-26T13:22:53.779460",
     "exception": false,
     "start_time": "2021-04-26T13:22:53.739251",
     "status": "completed"
    },
    "tags": []
   },
   "source": [
    "**Observation:** People of fbs category 1 are less than 25% of people of fbs category 0."
   ]
  },
  {
   "cell_type": "code",
   "execution_count": 17,
   "metadata": {
    "execution": {
     "iopub.execute_input": "2021-04-26T13:22:53.863098Z",
     "iopub.status.busy": "2021-04-26T13:22:53.862185Z",
     "iopub.status.idle": "2021-04-26T13:22:54.009167Z",
     "shell.execute_reply": "2021-04-26T13:22:54.009664Z"
    },
    "papermill": {
     "duration": 0.190672,
     "end_time": "2021-04-26T13:22:54.009867",
     "exception": false,
     "start_time": "2021-04-26T13:22:53.819195",
     "status": "completed"
    },
    "tags": []
   },
   "outputs": [
    {
     "data": {
      "text/plain": [
       "<AxesSubplot:xlabel='thall', ylabel='count'>"
      ]
     },
     "execution_count": 17,
     "metadata": {},
     "output_type": "execute_result"
    },
    {
     "data": {
      "image/png": "[encoded data removed]",
      "text/plain": [
       "<Figure size 432x288 with 1 Axes>"
      ]
     },
     "metadata": {
      "needs_background": "light"
     },
     "output_type": "display_data"
    }
   ],
   "source": [
    "sns.countplot(x='thall', data=df, palette='pastel')"
   ]
  },
  {
   "cell_type": "markdown",
   "metadata": {
    "papermill": {
     "duration": 0.040855,
     "end_time": "2021-04-26T13:22:54.095787",
     "exception": false,
     "start_time": "2021-04-26T13:22:54.054932",
     "status": "completed"
    },
    "tags": []
   },
   "source": [
    "**Observation:** Thall count is maximum for type 2 ( 165 ) and min for type 0 ( 2 ) .\n"
   ]
  },
  {
   "cell_type": "code",
   "execution_count": 18,
   "metadata": {
    "execution": {
     "iopub.execute_input": "2021-04-26T13:22:54.183258Z",
     "iopub.status.busy": "2021-04-26T13:22:54.182342Z",
     "iopub.status.idle": "2021-04-26T13:22:54.313477Z",
     "shell.execute_reply": "2021-04-26T13:22:54.314019Z"
    },
    "papermill": {
     "duration": 0.176184,
     "end_time": "2021-04-26T13:22:54.314197",
     "exception": false,
     "start_time": "2021-04-26T13:22:54.138013",
     "status": "completed"
    },
    "tags": []
   },
   "outputs": [
    {
     "data": {
      "text/plain": [
       "<AxesSubplot:xlabel='restecg', ylabel='count'>"
      ]
     },
     "execution_count": 18,
     "metadata": {},
     "output_type": "execute_result"
    },
    {
     "data": {
      "image/png": "[encoded data removed]",
      "text/plain": [
       "<Figure size 432x288 with 1 Axes>"
      ]
     },
     "metadata": {
      "needs_background": "light"
     },
     "output_type": "display_data"
    }
   ],
   "source": [
    "sns.countplot(x='restecg', data=df, palette='pastel')"
   ]
  },
  {
   "cell_type": "markdown",
   "metadata": {
    "papermill": {
     "duration": 0.042662,
     "end_time": "2021-04-26T13:22:54.403559",
     "exception": false,
     "start_time": "2021-04-26T13:22:54.360897",
     "status": "completed"
    },
    "tags": []
   },
   "source": [
    "**Observation:** \n",
    "\n",
    "* ECG count is almost the same for type 0 and 1. \n",
    "* Also, its almost negligible for type 2 in comparision to type 0 and 1."
   ]
  },
  {
   "cell_type": "code",
   "execution_count": 19,
   "metadata": {
    "execution": {
     "iopub.execute_input": "2021-04-26T13:22:54.492227Z",
     "iopub.status.busy": "2021-04-26T13:22:54.491249Z",
     "iopub.status.idle": "2021-04-26T13:22:54.906944Z",
     "shell.execute_reply": "2021-04-26T13:22:54.906393Z"
    },
    "papermill": {
     "duration": 0.460766,
     "end_time": "2021-04-26T13:22:54.907083",
     "exception": false,
     "start_time": "2021-04-26T13:22:54.446317",
     "status": "completed"
    },
    "tags": []
   },
   "outputs": [
    {
     "data": {
      "text/plain": [
       "<AxesSubplot:xlabel='caa', ylabel='age'>"
      ]
     },
     "execution_count": 19,
     "metadata": {},
     "output_type": "execute_result"
    },
    {
     "data": {
      "image/png": "[encoded data removed]",
      "text/plain": [
       "<Figure size 720x720 with 1 Axes>"
      ]
     },
     "metadata": {
      "needs_background": "light"
     },
     "output_type": "display_data"
    }
   ],
   "source": [
    "plt.figure(figsize = (10,10))\n",
    "sns.swarmplot(x=df['caa'],y=df['age'],hue=df['output'], palette='pastel')"
   ]
  },
  {
   "cell_type": "markdown",
   "metadata": {
    "papermill": {
     "duration": 0.045655,
     "end_time": "2021-04-26T13:22:54.998210",
     "exception": false,
     "start_time": "2021-04-26T13:22:54.952555",
     "status": "completed"
    },
    "tags": []
   },
   "source": [
    "**Observation:**\n",
    "\n",
    "* This swarmplot gives us a lot of information.\n",
    "* Accoring to the figure, people belonging to caa category '0' , irrespective of their age are highly prone to getting a heart attack.\n",
    "* While there are very few people belonging to caa category '4' , but it seems that around 75% of those get heart attacks.\n",
    "* People belonging to category '1' , '2' and '3' are more or less at similar risk."
   ]
  },
  {
   "cell_type": "code",
   "execution_count": 20,
   "metadata": {
    "execution": {
     "iopub.execute_input": "2021-04-26T13:22:55.121832Z",
     "iopub.status.busy": "2021-04-26T13:22:55.105501Z",
     "iopub.status.idle": "2021-04-26T13:22:55.321250Z",
     "shell.execute_reply": "2021-04-26T13:22:55.320683Z"
    },
    "papermill": {
     "duration": 0.278146,
     "end_time": "2021-04-26T13:22:55.321385",
     "exception": false,
     "start_time": "2021-04-26T13:22:55.043239",
     "status": "completed"
    },
    "tags": []
   },
   "outputs": [
    {
     "data": {
      "text/plain": [
       "<matplotlib.legend.Legend at 0x7f6851ab3810>"
      ]
     },
     "execution_count": 20,
     "metadata": {},
     "output_type": "execute_result"
    },
    {
     "data": {
      "image/png": "[encoded data removed]",
      "text/plain": [
       "<Figure size 432x288 with 1 Axes>"
      ]
     },
     "metadata": {
      "needs_background": "light"
     },
     "output_type": "display_data"
    }
   ],
   "source": [
    "sns.color_palette(\"pastel\")\n",
    "plt.title('Checking Outliers with distplot()')\n",
    "sns.distplot(df.trtbps, label='trtbps', kde=True, bins=10, color='green')\n",
    "plt.legend()"
   ]
  },
  {
   "cell_type": "code",
   "execution_count": 21,
   "metadata": {
    "execution": {
     "iopub.execute_input": "2021-04-26T13:22:55.443375Z",
     "iopub.status.busy": "2021-04-26T13:22:55.441962Z",
     "iopub.status.idle": "2021-04-26T13:22:55.660517Z",
     "shell.execute_reply": "2021-04-26T13:22:55.660999Z"
    },
    "papermill": {
     "duration": 0.293728,
     "end_time": "2021-04-26T13:22:55.661182",
     "exception": false,
     "start_time": "2021-04-26T13:22:55.367454",
     "status": "completed"
    },
    "tags": []
   },
   "outputs": [
    {
     "data": {
      "text/plain": [
       "<matplotlib.legend.Legend at 0x7f684f9e6550>"
      ]
     },
     "execution_count": 21,
     "metadata": {},
     "output_type": "execute_result"
    },
    {
     "data": {
      "image/png": "[encoded data removed]",
      "text/plain": [
       "<Figure size 432x288 with 1 Axes>"
      ]
     },
     "metadata": {
      "needs_background": "light"
     },
     "output_type": "display_data"
    }
   ],
   "source": [
    "plt.title('Checking Outliers with distplot()')\n",
    "sns.distplot(df.chol, label='chol', kde=True, color='red')\n",
    "plt.legend()"
   ]
  },
  {
   "cell_type": "code",
   "execution_count": 22,
   "metadata": {
    "execution": {
     "iopub.execute_input": "2021-04-26T13:22:55.791431Z",
     "iopub.status.busy": "2021-04-26T13:22:55.789679Z",
     "iopub.status.idle": "2021-04-26T13:22:56.015157Z",
     "shell.execute_reply": "2021-04-26T13:22:56.015617Z"
    },
    "papermill": {
     "duration": 0.307441,
     "end_time": "2021-04-26T13:22:56.015822",
     "exception": false,
     "start_time": "2021-04-26T13:22:55.708381",
     "status": "completed"
    },
    "tags": []
   },
   "outputs": [
    {
     "data": {
      "text/plain": [
       "<matplotlib.legend.Legend at 0x7f684f91c110>"
      ]
     },
     "execution_count": 22,
     "metadata": {},
     "output_type": "execute_result"
    },
    {
     "data": {
      "image/png": "[encoded data removed]",
      "text/plain": [
       "<Figure size 432x288 with 1 Axes>"
      ]
     },
     "metadata": {
      "needs_background": "light"
     },
     "output_type": "display_data"
    }
   ],
   "source": [
    "plt.title('Checking Outliers with distplot()')\n",
    "sns.distplot(df['thalachh'],label='thalachh', kde=True )\n",
    "plt.legend()"
   ]
  },
  {
   "cell_type": "markdown",
   "metadata": {
    "papermill": {
     "duration": 0.048095,
     "end_time": "2021-04-26T13:22:56.113796",
     "exception": false,
     "start_time": "2021-04-26T13:22:56.065701",
     "status": "completed"
    },
    "tags": []
   },
   "source": [
    "**Observations:**\n",
    "\n",
    "* trtbps and chol looks like they are normally distributed, with some outliers highly skewed towards right.\n",
    "* In case of thalachh the data is highly skewed towards right!"
   ]
  },
  {
   "cell_type": "code",
   "execution_count": 23,
   "metadata": {
    "execution": {
     "iopub.execute_input": "2021-04-26T13:22:56.248333Z",
     "iopub.status.busy": "2021-04-26T13:22:56.237205Z",
     "iopub.status.idle": "2021-04-26T13:22:58.079934Z",
     "shell.execute_reply": "2021-04-26T13:22:58.079288Z"
    },
    "papermill": {
     "duration": 1.917999,
     "end_time": "2021-04-26T13:22:58.080084",
     "exception": false,
     "start_time": "2021-04-26T13:22:56.162085",
     "status": "completed"
    },
    "tags": []
   },
   "outputs": [
    {
     "data": {
      "text/plain": [
       "<AxesSubplot:xlabel='age', ylabel='oldpeak'>"
      ]
     },
     "execution_count": 23,
     "metadata": {},
     "output_type": "execute_result"
    },
    {
     "data": {
      "image/png": "[encoded data removed]",
      "text/plain": [
       "<Figure size 1440x720 with 1 Axes>"
      ]
     },
     "metadata": {
      "needs_background": "light"
     },
     "output_type": "display_data"
    },
    {
     "data": {
      "image/png": "[encoded data removed]",
      "text/plain": [
       "<Figure size 1440x720 with 1 Axes>"
      ]
     },
     "metadata": {
      "needs_background": "light"
     },
     "output_type": "display_data"
    }
   ],
   "source": [
    "plt.figure(figsize=(20,10))\n",
    "sns.lineplot(x = df['age'], y = df['thall'],marker = '*', linestyle = '--', color = 'red')\n",
    "\n",
    "plt.figure(figsize = (20,10))\n",
    "sns.regplot(x=df['age'],y=df['oldpeak'])"
   ]
  },
  {
   "cell_type": "markdown",
   "metadata": {
    "papermill": {
     "duration": 0.052518,
     "end_time": "2021-04-26T13:22:58.186205",
     "exception": false,
     "start_time": "2021-04-26T13:22:58.133687",
     "status": "completed"
    },
    "tags": []
   },
   "source": [
    "**Observation:** \n",
    "\n",
    "* This hardly provides any information. \n",
    "* The relationship between age-oldpeak and age-thall is highly uncertain and varies significantly."
   ]
  },
  {
   "cell_type": "code",
   "execution_count": 24,
   "metadata": {
    "execution": {
     "iopub.execute_input": "2021-04-26T13:22:58.299095Z",
     "iopub.status.busy": "2021-04-26T13:22:58.298419Z",
     "iopub.status.idle": "2021-04-26T13:22:58.300877Z",
     "shell.execute_reply": "2021-04-26T13:22:58.301321Z"
    },
    "papermill": {
     "duration": 0.062074,
     "end_time": "2021-04-26T13:22:58.301501",
     "exception": false,
     "start_time": "2021-04-26T13:22:58.239427",
     "status": "completed"
    },
    "tags": []
   },
   "outputs": [],
   "source": [
    "X = df.drop('output', axis = 1)\n",
    "y = df['output']"
   ]
  },
  {
   "cell_type": "markdown",
   "metadata": {
    "papermill": {
     "duration": 0.053123,
     "end_time": "2021-04-26T13:22:58.408500",
     "exception": false,
     "start_time": "2021-04-26T13:22:58.355377",
     "status": "completed"
    },
    "tags": []
   },
   "source": [
    "**About StandardScaler:**\n",
    "\n",
    "* Python sklearn library offers us with StandardScaler() function to standardize the data values into a standard format.\n",
    "\n",
    "* Standardization of a dataset is a common requirement for many machine learning estimators: they might behave badly if the individual features do not more or less look like standard normally distributed data (e.g. Gaussian with 0 mean and unit variance).\n",
    "\n",
    "* StandardScaler follows Standard Normal Distribution (SND). Therefore, it makes mean = 0 and scales the data to unit variance."
   ]
  },
  {
   "cell_type": "code",
   "execution_count": 25,
   "metadata": {
    "execution": {
     "iopub.execute_input": "2021-04-26T13:22:58.518796Z",
     "iopub.status.busy": "2021-04-26T13:22:58.518211Z",
     "iopub.status.idle": "2021-04-26T13:22:58.521454Z",
     "shell.execute_reply": "2021-04-26T13:22:58.520921Z"
    },
    "papermill": {
     "duration": 0.060687,
     "end_time": "2021-04-26T13:22:58.521606",
     "exception": false,
     "start_time": "2021-04-26T13:22:58.460919",
     "status": "completed"
    },
    "tags": []
   },
   "outputs": [],
   "source": [
    "df.reset_index(drop=True, inplace=True)"
   ]
  },
  {
   "cell_type": "code",
   "execution_count": 26,
   "metadata": {
    "execution": {
     "iopub.execute_input": "2021-04-26T13:22:58.644582Z",
     "iopub.status.busy": "2021-04-26T13:22:58.643543Z",
     "iopub.status.idle": "2021-04-26T13:22:58.647296Z",
     "shell.execute_reply": "2021-04-26T13:22:58.647898Z"
    },
    "papermill": {
     "duration": 0.073099,
     "end_time": "2021-04-26T13:22:58.648065",
     "exception": false,
     "start_time": "2021-04-26T13:22:58.574966",
     "status": "completed"
    },
    "tags": []
   },
   "outputs": [
    {
     "data": {
      "text/html": [
       "<div>\n",
       "<style scoped>\n",
       "    .dataframe tbody tr th:only-of-type {\n",
       "        vertical-align: middle;\n",
       "    }\n",
       "\n",
       "    .dataframe tbody tr th {\n",
       "        vertical-align: top;\n",
       "    }\n",
       "\n",
       "    .dataframe thead th {\n",
       "        text-align: right;\n",
       "    }\n",
       "</style>\n",
       "<table border=\"1\" class=\"dataframe\">\n",
       "  <thead>\n",
       "    <tr style=\"text-align: right;\">\n",
       "      <th></th>\n",
       "      <th>age</th>\n",
       "      <th>trtbps</th>\n",
       "      <th>chol</th>\n",
       "      <th>thalachh</th>\n",
       "      <th>oldpeak</th>\n",
       "    </tr>\n",
       "  </thead>\n",
       "  <tbody>\n",
       "    <tr>\n",
       "      <th>0</th>\n",
       "      <td>63</td>\n",
       "      <td>145</td>\n",
       "      <td>233</td>\n",
       "      <td>150</td>\n",
       "      <td>2.3</td>\n",
       "    </tr>\n",
       "    <tr>\n",
       "      <th>1</th>\n",
       "      <td>37</td>\n",
       "      <td>130</td>\n",
       "      <td>250</td>\n",
       "      <td>187</td>\n",
       "      <td>3.5</td>\n",
       "    </tr>\n",
       "    <tr>\n",
       "      <th>2</th>\n",
       "      <td>41</td>\n",
       "      <td>130</td>\n",
       "      <td>204</td>\n",
       "      <td>172</td>\n",
       "      <td>1.4</td>\n",
       "    </tr>\n",
       "    <tr>\n",
       "      <th>3</th>\n",
       "      <td>56</td>\n",
       "      <td>120</td>\n",
       "      <td>236</td>\n",
       "      <td>178</td>\n",
       "      <td>0.8</td>\n",
       "    </tr>\n",
       "    <tr>\n",
       "      <th>4</th>\n",
       "      <td>57</td>\n",
       "      <td>120</td>\n",
       "      <td>354</td>\n",
       "      <td>163</td>\n",
       "      <td>0.6</td>\n",
       "    </tr>\n",
       "    <tr>\n",
       "      <th>...</th>\n",
       "      <td>...</td>\n",
       "      <td>...</td>\n",
       "      <td>...</td>\n",
       "      <td>...</td>\n",
       "      <td>...</td>\n",
       "    </tr>\n",
       "    <tr>\n",
       "      <th>297</th>\n",
       "      <td>57</td>\n",
       "      <td>140</td>\n",
       "      <td>241</td>\n",
       "      <td>123</td>\n",
       "      <td>0.2</td>\n",
       "    </tr>\n",
       "    <tr>\n",
       "      <th>298</th>\n",
       "      <td>45</td>\n",
       "      <td>110</td>\n",
       "      <td>264</td>\n",
       "      <td>132</td>\n",
       "      <td>1.2</td>\n",
       "    </tr>\n",
       "    <tr>\n",
       "      <th>299</th>\n",
       "      <td>68</td>\n",
       "      <td>144</td>\n",
       "      <td>193</td>\n",
       "      <td>141</td>\n",
       "      <td>3.4</td>\n",
       "    </tr>\n",
       "    <tr>\n",
       "      <th>300</th>\n",
       "      <td>57</td>\n",
       "      <td>130</td>\n",
       "      <td>131</td>\n",
       "      <td>115</td>\n",
       "      <td>1.2</td>\n",
       "    </tr>\n",
       "    <tr>\n",
       "      <th>301</th>\n",
       "      <td>57</td>\n",
       "      <td>130</td>\n",
       "      <td>236</td>\n",
       "      <td>174</td>\n",
       "      <td>0.0</td>\n",
       "    </tr>\n",
       "  </tbody>\n",
       "</table>\n",
       "<p>302 rows × 5 columns</p>\n",
       "</div>"
      ],
      "text/plain": [
       "     age  trtbps  chol  thalachh  oldpeak\n",
       "0     63     145   233       150      2.3\n",
       "1     37     130   250       187      3.5\n",
       "2     41     130   204       172      1.4\n",
       "3     56     120   236       178      0.8\n",
       "4     57     120   354       163      0.6\n",
       "..   ...     ...   ...       ...      ...\n",
       "297   57     140   241       123      0.2\n",
       "298   45     110   264       132      1.2\n",
       "299   68     144   193       141      3.4\n",
       "300   57     130   131       115      1.2\n",
       "301   57     130   236       174      0.0\n",
       "\n",
       "[302 rows x 5 columns]"
      ]
     },
     "execution_count": 26,
     "metadata": {},
     "output_type": "execute_result"
    }
   ],
   "source": [
    "columns_to_scale = df.iloc[:,[0,3,4,7,9,]]\n",
    "columns_to_scale"
   ]
  },
  {
   "cell_type": "code",
   "execution_count": 27,
   "metadata": {
    "execution": {
     "iopub.execute_input": "2021-04-26T13:22:58.762962Z",
     "iopub.status.busy": "2021-04-26T13:22:58.761935Z",
     "iopub.status.idle": "2021-04-26T13:22:58.785864Z",
     "shell.execute_reply": "2021-04-26T13:22:58.785371Z"
    },
    "papermill": {
     "duration": 0.083133,
     "end_time": "2021-04-26T13:22:58.786003",
     "exception": false,
     "start_time": "2021-04-26T13:22:58.702870",
     "status": "completed"
    },
    "tags": []
   },
   "outputs": [
    {
     "data": {
      "text/html": [
       "<div>\n",
       "<style scoped>\n",
       "    .dataframe tbody tr th:only-of-type {\n",
       "        vertical-align: middle;\n",
       "    }\n",
       "\n",
       "    .dataframe tbody tr th {\n",
       "        vertical-align: top;\n",
       "    }\n",
       "\n",
       "    .dataframe thead th {\n",
       "        text-align: right;\n",
       "    }\n",
       "</style>\n",
       "<table border=\"1\" class=\"dataframe\">\n",
       "  <thead>\n",
       "    <tr style=\"text-align: right;\">\n",
       "      <th></th>\n",
       "      <th>age</th>\n",
       "      <th>trtbps</th>\n",
       "      <th>chol</th>\n",
       "      <th>thalachh</th>\n",
       "      <th>oldpeak</th>\n",
       "    </tr>\n",
       "  </thead>\n",
       "  <tbody>\n",
       "    <tr>\n",
       "      <th>0</th>\n",
       "      <td>0.949794</td>\n",
       "      <td>0.764066</td>\n",
       "      <td>-0.261285</td>\n",
       "      <td>0.018826</td>\n",
       "      <td>1.084022</td>\n",
       "    </tr>\n",
       "    <tr>\n",
       "      <th>1</th>\n",
       "      <td>-1.928548</td>\n",
       "      <td>-0.091401</td>\n",
       "      <td>0.067741</td>\n",
       "      <td>1.636979</td>\n",
       "      <td>2.118926</td>\n",
       "    </tr>\n",
       "    <tr>\n",
       "      <th>2</th>\n",
       "      <td>-1.485726</td>\n",
       "      <td>-0.091401</td>\n",
       "      <td>-0.822564</td>\n",
       "      <td>0.980971</td>\n",
       "      <td>0.307844</td>\n",
       "    </tr>\n",
       "    <tr>\n",
       "      <th>3</th>\n",
       "      <td>0.174856</td>\n",
       "      <td>-0.661712</td>\n",
       "      <td>-0.203222</td>\n",
       "      <td>1.243374</td>\n",
       "      <td>-0.209608</td>\n",
       "    </tr>\n",
       "    <tr>\n",
       "      <th>4</th>\n",
       "      <td>0.285561</td>\n",
       "      <td>-0.661712</td>\n",
       "      <td>2.080602</td>\n",
       "      <td>0.587366</td>\n",
       "      <td>-0.382092</td>\n",
       "    </tr>\n",
       "    <tr>\n",
       "      <th>...</th>\n",
       "      <td>...</td>\n",
       "      <td>...</td>\n",
       "      <td>...</td>\n",
       "      <td>...</td>\n",
       "      <td>...</td>\n",
       "    </tr>\n",
       "    <tr>\n",
       "      <th>297</th>\n",
       "      <td>0.285561</td>\n",
       "      <td>0.478910</td>\n",
       "      <td>-0.106449</td>\n",
       "      <td>-1.161988</td>\n",
       "      <td>-0.727060</td>\n",
       "    </tr>\n",
       "    <tr>\n",
       "      <th>298</th>\n",
       "      <td>-1.042904</td>\n",
       "      <td>-1.232023</td>\n",
       "      <td>0.338703</td>\n",
       "      <td>-0.768384</td>\n",
       "      <td>0.135360</td>\n",
       "    </tr>\n",
       "    <tr>\n",
       "      <th>299</th>\n",
       "      <td>1.503322</td>\n",
       "      <td>0.707035</td>\n",
       "      <td>-1.035462</td>\n",
       "      <td>-0.374779</td>\n",
       "      <td>2.032684</td>\n",
       "    </tr>\n",
       "    <tr>\n",
       "      <th>300</th>\n",
       "      <td>0.285561</td>\n",
       "      <td>-0.091401</td>\n",
       "      <td>-2.235438</td>\n",
       "      <td>-1.511859</td>\n",
       "      <td>0.135360</td>\n",
       "    </tr>\n",
       "    <tr>\n",
       "      <th>301</th>\n",
       "      <td>0.285561</td>\n",
       "      <td>-0.091401</td>\n",
       "      <td>-0.203222</td>\n",
       "      <td>1.068439</td>\n",
       "      <td>-0.899544</td>\n",
       "    </tr>\n",
       "  </tbody>\n",
       "</table>\n",
       "<p>302 rows × 5 columns</p>\n",
       "</div>"
      ],
      "text/plain": [
       "          age    trtbps      chol  thalachh   oldpeak\n",
       "0    0.949794  0.764066 -0.261285  0.018826  1.084022\n",
       "1   -1.928548 -0.091401  0.067741  1.636979  2.118926\n",
       "2   -1.485726 -0.091401 -0.822564  0.980971  0.307844\n",
       "3    0.174856 -0.661712 -0.203222  1.243374 -0.209608\n",
       "4    0.285561 -0.661712  2.080602  0.587366 -0.382092\n",
       "..        ...       ...       ...       ...       ...\n",
       "297  0.285561  0.478910 -0.106449 -1.161988 -0.727060\n",
       "298 -1.042904 -1.232023  0.338703 -0.768384  0.135360\n",
       "299  1.503322  0.707035 -1.035462 -0.374779  2.032684\n",
       "300  0.285561 -0.091401 -2.235438 -1.511859  0.135360\n",
       "301  0.285561 -0.091401 -0.203222  1.068439 -0.899544\n",
       "\n",
       "[302 rows x 5 columns]"
      ]
     },
     "execution_count": 27,
     "metadata": {},
     "output_type": "execute_result"
    }
   ],
   "source": [
    "# Spliting the data\n",
    "from sklearn.model_selection import train_test_split\n",
    "\n",
    "X_train,X_test,y_train,y_test = train_test_split(X, y, test_size = 0.2, random_state = 42)\n",
    "\n",
    "ss = StandardScaler()\n",
    "scaled_values = ss.fit_transform(columns_to_scale)\n",
    "scaled_values = pd.DataFrame(scaled_values, columns=columns_to_scale.columns)\n",
    "scaled_values\n"
   ]
  },
  {
   "cell_type": "code",
   "execution_count": 28,
   "metadata": {
    "execution": {
     "iopub.execute_input": "2021-04-26T13:22:58.918064Z",
     "iopub.status.busy": "2021-04-26T13:22:58.917357Z",
     "iopub.status.idle": "2021-04-26T13:22:58.920343Z",
     "shell.execute_reply": "2021-04-26T13:22:58.920979Z"
    },
    "papermill": {
     "duration": 0.080944,
     "end_time": "2021-04-26T13:22:58.921163",
     "exception": false,
     "start_time": "2021-04-26T13:22:58.840219",
     "status": "completed"
    },
    "tags": []
   },
   "outputs": [
    {
     "data": {
      "text/html": [
       "<div>\n",
       "<style scoped>\n",
       "    .dataframe tbody tr th:only-of-type {\n",
       "        vertical-align: middle;\n",
       "    }\n",
       "\n",
       "    .dataframe tbody tr th {\n",
       "        vertical-align: top;\n",
       "    }\n",
       "\n",
       "    .dataframe thead th {\n",
       "        text-align: right;\n",
       "    }\n",
       "</style>\n",
       "<table border=\"1\" class=\"dataframe\">\n",
       "  <thead>\n",
       "    <tr style=\"text-align: right;\">\n",
       "      <th></th>\n",
       "      <th>age</th>\n",
       "      <th>trtbps</th>\n",
       "      <th>chol</th>\n",
       "      <th>thalachh</th>\n",
       "      <th>oldpeak</th>\n",
       "      <th>sex</th>\n",
       "      <th>cp</th>\n",
       "      <th>fbs</th>\n",
       "      <th>restecg</th>\n",
       "      <th>exng</th>\n",
       "      <th>slp</th>\n",
       "      <th>caa</th>\n",
       "      <th>thall</th>\n",
       "      <th>output</th>\n",
       "    </tr>\n",
       "  </thead>\n",
       "  <tbody>\n",
       "    <tr>\n",
       "      <th>0</th>\n",
       "      <td>0.949794</td>\n",
       "      <td>0.764066</td>\n",
       "      <td>-0.261285</td>\n",
       "      <td>0.018826</td>\n",
       "      <td>1.084022</td>\n",
       "      <td>1</td>\n",
       "      <td>3</td>\n",
       "      <td>1</td>\n",
       "      <td>0</td>\n",
       "      <td>0</td>\n",
       "      <td>0</td>\n",
       "      <td>0</td>\n",
       "      <td>1</td>\n",
       "      <td>1</td>\n",
       "    </tr>\n",
       "    <tr>\n",
       "      <th>1</th>\n",
       "      <td>-1.928548</td>\n",
       "      <td>-0.091401</td>\n",
       "      <td>0.067741</td>\n",
       "      <td>1.636979</td>\n",
       "      <td>2.118926</td>\n",
       "      <td>1</td>\n",
       "      <td>2</td>\n",
       "      <td>0</td>\n",
       "      <td>1</td>\n",
       "      <td>0</td>\n",
       "      <td>0</td>\n",
       "      <td>0</td>\n",
       "      <td>2</td>\n",
       "      <td>1</td>\n",
       "    </tr>\n",
       "    <tr>\n",
       "      <th>2</th>\n",
       "      <td>-1.485726</td>\n",
       "      <td>-0.091401</td>\n",
       "      <td>-0.822564</td>\n",
       "      <td>0.980971</td>\n",
       "      <td>0.307844</td>\n",
       "      <td>0</td>\n",
       "      <td>1</td>\n",
       "      <td>0</td>\n",
       "      <td>0</td>\n",
       "      <td>0</td>\n",
       "      <td>2</td>\n",
       "      <td>0</td>\n",
       "      <td>2</td>\n",
       "      <td>1</td>\n",
       "    </tr>\n",
       "    <tr>\n",
       "      <th>3</th>\n",
       "      <td>0.174856</td>\n",
       "      <td>-0.661712</td>\n",
       "      <td>-0.203222</td>\n",
       "      <td>1.243374</td>\n",
       "      <td>-0.209608</td>\n",
       "      <td>1</td>\n",
       "      <td>1</td>\n",
       "      <td>0</td>\n",
       "      <td>1</td>\n",
       "      <td>0</td>\n",
       "      <td>2</td>\n",
       "      <td>0</td>\n",
       "      <td>2</td>\n",
       "      <td>1</td>\n",
       "    </tr>\n",
       "    <tr>\n",
       "      <th>4</th>\n",
       "      <td>0.285561</td>\n",
       "      <td>-0.661712</td>\n",
       "      <td>2.080602</td>\n",
       "      <td>0.587366</td>\n",
       "      <td>-0.382092</td>\n",
       "      <td>0</td>\n",
       "      <td>0</td>\n",
       "      <td>0</td>\n",
       "      <td>1</td>\n",
       "      <td>1</td>\n",
       "      <td>2</td>\n",
       "      <td>0</td>\n",
       "      <td>2</td>\n",
       "      <td>1</td>\n",
       "    </tr>\n",
       "    <tr>\n",
       "      <th>...</th>\n",
       "      <td>...</td>\n",
       "      <td>...</td>\n",
       "      <td>...</td>\n",
       "      <td>...</td>\n",
       "      <td>...</td>\n",
       "      <td>...</td>\n",
       "      <td>...</td>\n",
       "      <td>...</td>\n",
       "      <td>...</td>\n",
       "      <td>...</td>\n",
       "      <td>...</td>\n",
       "      <td>...</td>\n",
       "      <td>...</td>\n",
       "      <td>...</td>\n",
       "    </tr>\n",
       "    <tr>\n",
       "      <th>297</th>\n",
       "      <td>0.285561</td>\n",
       "      <td>0.478910</td>\n",
       "      <td>-0.106449</td>\n",
       "      <td>-1.161988</td>\n",
       "      <td>-0.727060</td>\n",
       "      <td>0</td>\n",
       "      <td>0</td>\n",
       "      <td>0</td>\n",
       "      <td>1</td>\n",
       "      <td>1</td>\n",
       "      <td>1</td>\n",
       "      <td>0</td>\n",
       "      <td>3</td>\n",
       "      <td>0</td>\n",
       "    </tr>\n",
       "    <tr>\n",
       "      <th>298</th>\n",
       "      <td>-1.042904</td>\n",
       "      <td>-1.232023</td>\n",
       "      <td>0.338703</td>\n",
       "      <td>-0.768384</td>\n",
       "      <td>0.135360</td>\n",
       "      <td>1</td>\n",
       "      <td>3</td>\n",
       "      <td>0</td>\n",
       "      <td>1</td>\n",
       "      <td>0</td>\n",
       "      <td>1</td>\n",
       "      <td>0</td>\n",
       "      <td>3</td>\n",
       "      <td>0</td>\n",
       "    </tr>\n",
       "    <tr>\n",
       "      <th>299</th>\n",
       "      <td>1.503322</td>\n",
       "      <td>0.707035</td>\n",
       "      <td>-1.035462</td>\n",
       "      <td>-0.374779</td>\n",
       "      <td>2.032684</td>\n",
       "      <td>1</td>\n",
       "      <td>0</td>\n",
       "      <td>1</td>\n",
       "      <td>1</td>\n",
       "      <td>0</td>\n",
       "      <td>1</td>\n",
       "      <td>2</td>\n",
       "      <td>3</td>\n",
       "      <td>0</td>\n",
       "    </tr>\n",
       "    <tr>\n",
       "      <th>300</th>\n",
       "      <td>0.285561</td>\n",
       "      <td>-0.091401</td>\n",
       "      <td>-2.235438</td>\n",
       "      <td>-1.511859</td>\n",
       "      <td>0.135360</td>\n",
       "      <td>1</td>\n",
       "      <td>0</td>\n",
       "      <td>0</td>\n",
       "      <td>1</td>\n",
       "      <td>1</td>\n",
       "      <td>1</td>\n",
       "      <td>1</td>\n",
       "      <td>3</td>\n",
       "      <td>0</td>\n",
       "    </tr>\n",
       "    <tr>\n",
       "      <th>301</th>\n",
       "      <td>0.285561</td>\n",
       "      <td>-0.091401</td>\n",
       "      <td>-0.203222</td>\n",
       "      <td>1.068439</td>\n",
       "      <td>-0.899544</td>\n",
       "      <td>0</td>\n",
       "      <td>1</td>\n",
       "      <td>0</td>\n",
       "      <td>0</td>\n",
       "      <td>0</td>\n",
       "      <td>1</td>\n",
       "      <td>1</td>\n",
       "      <td>2</td>\n",
       "      <td>0</td>\n",
       "    </tr>\n",
       "  </tbody>\n",
       "</table>\n",
       "<p>302 rows × 14 columns</p>\n",
       "</div>"
      ],
      "text/plain": [
       "          age    trtbps      chol  thalachh   oldpeak  sex  cp  fbs  restecg  \\\n",
       "0    0.949794  0.764066 -0.261285  0.018826  1.084022    1   3    1        0   \n",
       "1   -1.928548 -0.091401  0.067741  1.636979  2.118926    1   2    0        1   \n",
       "2   -1.485726 -0.091401 -0.822564  0.980971  0.307844    0   1    0        0   \n",
       "3    0.174856 -0.661712 -0.203222  1.243374 -0.209608    1   1    0        1   \n",
       "4    0.285561 -0.661712  2.080602  0.587366 -0.382092    0   0    0        1   \n",
       "..        ...       ...       ...       ...       ...  ...  ..  ...      ...   \n",
       "297  0.285561  0.478910 -0.106449 -1.161988 -0.727060    0   0    0        1   \n",
       "298 -1.042904 -1.232023  0.338703 -0.768384  0.135360    1   3    0        1   \n",
       "299  1.503322  0.707035 -1.035462 -0.374779  2.032684    1   0    1        1   \n",
       "300  0.285561 -0.091401 -2.235438 -1.511859  0.135360    1   0    0        1   \n",
       "301  0.285561 -0.091401 -0.203222  1.068439 -0.899544    0   1    0        0   \n",
       "\n",
       "     exng  slp  caa  thall  output  \n",
       "0       0    0    0      1       1  \n",
       "1       0    0    0      2       1  \n",
       "2       0    2    0      2       1  \n",
       "3       0    2    0      2       1  \n",
       "4       1    2    0      2       1  \n",
       "..    ...  ...  ...    ...     ...  \n",
       "297     1    1    0      3       0  \n",
       "298     0    1    0      3       0  \n",
       "299     0    1    2      3       0  \n",
       "300     1    1    1      3       0  \n",
       "301     0    1    1      2       0  \n",
       "\n",
       "[302 rows x 14 columns]"
      ]
     },
     "execution_count": 28,
     "metadata": {},
     "output_type": "execute_result"
    }
   ],
   "source": [
    "scaled_df = pd.concat([scaled_values,df.iloc[:,[1,2,5,6,8,10,11,12,13]]],axis=1)\n",
    "scaled_df"
   ]
  },
  {
   "cell_type": "code",
   "execution_count": 29,
   "metadata": {
    "execution": {
     "iopub.execute_input": "2021-04-26T13:22:59.044972Z",
     "iopub.status.busy": "2021-04-26T13:22:59.044319Z",
     "iopub.status.idle": "2021-04-26T13:22:59.047366Z",
     "shell.execute_reply": "2021-04-26T13:22:59.046860Z"
    },
    "papermill": {
     "duration": 0.065171,
     "end_time": "2021-04-26T13:22:59.047520",
     "exception": false,
     "start_time": "2021-04-26T13:22:58.982349",
     "status": "completed"
    },
    "tags": []
   },
   "outputs": [],
   "source": [
    "key = ['LogisticRegression','KNeighborsClassifier','SVC','DecisionTreeClassifier','RandomForestClassifier','GradientBoostingClassifier','AdaBoostClassifier','XGBClassifier']\n",
    "value = [LogisticRegression(random_state=9), KNeighborsClassifier(), SVC(), DecisionTreeClassifier(), RandomForestClassifier(), GradientBoostingClassifier(), AdaBoostClassifier(), xgb.XGBClassifier()]\n",
    "models = dict(zip(key,value))"
   ]
  },
  {
   "cell_type": "code",
   "execution_count": 30,
   "metadata": {
    "execution": {
     "iopub.execute_input": "2021-04-26T13:22:59.164866Z",
     "iopub.status.busy": "2021-04-26T13:22:59.164232Z",
     "iopub.status.idle": "2021-04-26T13:22:59.165969Z",
     "shell.execute_reply": "2021-04-26T13:22:59.166548Z"
    },
    "papermill": {
     "duration": 0.062771,
     "end_time": "2021-04-26T13:22:59.166709",
     "exception": false,
     "start_time": "2021-04-26T13:22:59.103938",
     "status": "completed"
    },
    "tags": []
   },
   "outputs": [],
   "source": [
    "predicted =[]"
   ]
  },
  {
   "cell_type": "code",
   "execution_count": 31,
   "metadata": {
    "execution": {
     "iopub.execute_input": "2021-04-26T13:22:59.283255Z",
     "iopub.status.busy": "2021-04-26T13:22:59.282642Z",
     "iopub.status.idle": "2021-04-26T13:22:59.829166Z",
     "shell.execute_reply": "2021-04-26T13:22:59.830229Z"
    },
    "papermill": {
     "duration": 0.606606,
     "end_time": "2021-04-26T13:22:59.830585",
     "exception": false,
     "start_time": "2021-04-26T13:22:59.223979",
     "status": "completed"
    },
    "tags": []
   },
   "outputs": [
    {
     "name": "stdout",
     "output_type": "stream",
     "text": [
      "LogisticRegression 0.8524590163934426\n",
      "KNeighborsClassifier 0.6557377049180327\n",
      "SVC 0.7049180327868853\n",
      "DecisionTreeClassifier 0.8032786885245902\n",
      "RandomForestClassifier 0.8688524590163934\n",
      "GradientBoostingClassifier 0.8524590163934426\n",
      "AdaBoostClassifier 0.7868852459016393\n",
      "[13:22:59] WARNING: ../src/learner.cc:1095: Starting in XGBoost 1.3.0, the default evaluation metric used with the objective 'binary:logistic' was changed from 'error' to 'logloss'. Explicitly set eval_metric if you'd like to restore the old behavior.\n",
      "XGBClassifier 0.8524590163934426\n"
     ]
    }
   ],
   "source": [
    "for name,algo in models.items():\n",
    "    model=algo\n",
    "    model.fit(X_train,y_train)\n",
    "    predict = model.predict(X_test)\n",
    "    acc = accuracy_score(y_test, predict)\n",
    "    predicted.append(acc)\n",
    "    print(name,acc)"
   ]
  },
  {
   "cell_type": "code",
   "execution_count": 32,
   "metadata": {
    "execution": {
     "iopub.execute_input": "2021-04-26T13:22:59.973361Z",
     "iopub.status.busy": "2021-04-26T13:22:59.972240Z",
     "iopub.status.idle": "2021-04-26T13:23:00.147466Z",
     "shell.execute_reply": "2021-04-26T13:23:00.146722Z"
    },
    "papermill": {
     "duration": 0.257211,
     "end_time": "2021-04-26T13:23:00.147617",
     "exception": false,
     "start_time": "2021-04-26T13:22:59.890406",
     "status": "completed"
    },
    "tags": []
   },
   "outputs": [
    {
     "data": {
      "text/plain": [
       "<AxesSubplot:>"
      ]
     },
     "execution_count": 32,
     "metadata": {},
     "output_type": "execute_result"
    },
    {
     "data": {
      "image/png": "[encoded data removed]",
      "text/plain": [
       "<Figure size 720x360 with 1 Axes>"
      ]
     },
     "metadata": {
      "needs_background": "light"
     },
     "output_type": "display_data"
    }
   ],
   "source": [
    "plt.figure(figsize = (10,5))\n",
    "sns.barplot(x = predicted, y = key, palette='pastel')"
   ]
  },
  {
   "cell_type": "markdown",
   "metadata": {
    "papermill": {
     "duration": 0.06098,
     "end_time": "2021-04-26T13:23:00.275133",
     "exception": false,
     "start_time": "2021-04-26T13:23:00.214153",
     "status": "completed"
    },
    "tags": []
   },
   "source": [
    "**Observation:**  From the above figure we can see that none of the above models give an accuracy greater than 90%. Let us try some other approach. Lets take some other random_state for Logistic Regression Model and see if the accuracy improves!"
   ]
  },
  {
   "cell_type": "code",
   "execution_count": 33,
   "metadata": {
    "execution": {
     "iopub.execute_input": "2021-04-26T13:23:00.395112Z",
     "iopub.status.busy": "2021-04-26T13:23:00.394489Z",
     "iopub.status.idle": "2021-04-26T13:23:19.349567Z",
     "shell.execute_reply": "2021-04-26T13:23:19.350083Z"
    },
    "papermill": {
     "duration": 19.016592,
     "end_time": "2021-04-26T13:23:19.350271",
     "exception": false,
     "start_time": "2021-04-26T13:23:00.333679",
     "status": "completed"
    },
    "tags": []
   },
   "outputs": [],
   "source": [
    "lr = LogisticRegression(solver='lbfgs', max_iter=10000)\n",
    "rs = []\n",
    "acc = []\n",
    "for i in range(1,100,1):\n",
    "    X_train,X_test,y_train,y_test = train_test_split(X, y, test_size = 0.2, random_state = i)    \n",
    "    model_lr_rs = lr.fit(X_train, y_train.values.ravel())\n",
    "    predict_values_lr_rs = model_lr_rs.predict(X_test)\n",
    "    acc.append(accuracy_score(y_test, predict_values_lr_rs))\n",
    "    rs.append(i)"
   ]
  },
  {
   "cell_type": "code",
   "execution_count": 34,
   "metadata": {
    "execution": {
     "iopub.execute_input": "2021-04-26T13:23:19.474453Z",
     "iopub.status.busy": "2021-04-26T13:23:19.473757Z",
     "iopub.status.idle": "2021-04-26T13:23:19.645979Z",
     "shell.execute_reply": "2021-04-26T13:23:19.645396Z"
    },
    "papermill": {
     "duration": 0.235471,
     "end_time": "2021-04-26T13:23:19.646120",
     "exception": false,
     "start_time": "2021-04-26T13:23:19.410649",
     "status": "completed"
    },
    "tags": []
   },
   "outputs": [
    {
     "data": {
      "text/plain": [
       "[<matplotlib.lines.Line2D at 0x7f684f675c90>]"
      ]
     },
     "execution_count": 34,
     "metadata": {},
     "output_type": "execute_result"
    },
    {
     "data": {
      "image/png": "[encoded data removed]",
      "text/plain": [
       "<Figure size 720x720 with 1 Axes>"
      ]
     },
     "metadata": {
      "needs_background": "light"
     },
     "output_type": "display_data"
    }
   ],
   "source": [
    "plt.figure(figsize=(10,10))\n",
    "plt.plot(rs, acc)"
   ]
  },
  {
   "cell_type": "code",
   "execution_count": 35,
   "metadata": {
    "execution": {
     "iopub.execute_input": "2021-04-26T13:23:19.777932Z",
     "iopub.status.busy": "2021-04-26T13:23:19.777282Z",
     "iopub.status.idle": "2021-04-26T13:23:19.804732Z",
     "shell.execute_reply": "2021-04-26T13:23:19.804190Z"
    },
    "papermill": {
     "duration": 0.096231,
     "end_time": "2021-04-26T13:23:19.804939",
     "exception": false,
     "start_time": "2021-04-26T13:23:19.708708",
     "status": "completed"
    },
    "tags": []
   },
   "outputs": [
    {
     "name": "stdout",
     "output_type": "stream",
     "text": [
      "1 0.8032786885245902\n",
      "2 0.8524590163934426\n",
      "3 0.8852459016393442\n",
      "4 0.8524590163934426\n",
      "5 0.819672131147541\n",
      "6 0.8360655737704918\n",
      "7 0.8524590163934426\n",
      "8 0.8688524590163934\n",
      "9 0.9344262295081968\n",
      "10 0.7704918032786885\n",
      "11 0.7868852459016393\n",
      "12 0.8688524590163934\n",
      "13 0.7868852459016393\n",
      "14 0.7704918032786885\n",
      "15 0.7049180327868853\n",
      "16 0.8032786885245902\n",
      "17 0.8360655737704918\n",
      "18 0.8524590163934426\n",
      "19 0.8524590163934426\n",
      "20 0.8032786885245902\n",
      "21 0.8360655737704918\n",
      "22 0.7540983606557377\n",
      "23 0.8688524590163934\n",
      "24 0.8688524590163934\n",
      "25 0.819672131147541\n",
      "26 0.8852459016393442\n",
      "27 0.819672131147541\n",
      "28 0.8360655737704918\n",
      "29 0.9180327868852459\n",
      "30 0.7704918032786885\n",
      "31 0.7868852459016393\n",
      "32 0.819672131147541\n",
      "33 0.8360655737704918\n",
      "34 0.8360655737704918\n",
      "35 0.8032786885245902\n",
      "36 0.8360655737704918\n",
      "37 0.819672131147541\n",
      "38 0.8688524590163934\n",
      "39 0.7540983606557377\n",
      "40 0.8688524590163934\n",
      "41 0.7868852459016393\n",
      "42 0.819672131147541\n",
      "43 0.9016393442622951\n",
      "44 0.8852459016393442\n",
      "45 0.8688524590163934\n",
      "46 0.8032786885245902\n",
      "47 0.819672131147541\n",
      "48 0.8032786885245902\n",
      "49 0.8688524590163934\n",
      "50 0.8032786885245902\n",
      "51 0.8524590163934426\n",
      "52 0.8360655737704918\n",
      "53 0.7868852459016393\n",
      "54 0.8360655737704918\n",
      "55 0.8524590163934426\n",
      "56 0.8032786885245902\n",
      "57 0.7868852459016393\n",
      "58 0.7540983606557377\n",
      "59 0.7868852459016393\n",
      "60 0.8524590163934426\n",
      "61 0.8360655737704918\n",
      "62 0.8360655737704918\n",
      "63 0.8360655737704918\n",
      "64 0.8852459016393442\n",
      "65 0.8360655737704918\n",
      "66 0.8360655737704918\n",
      "67 0.8524590163934426\n",
      "68 0.8360655737704918\n",
      "69 0.8688524590163934\n",
      "70 0.819672131147541\n",
      "71 0.7704918032786885\n",
      "72 0.8524590163934426\n",
      "73 0.8524590163934426\n",
      "74 0.7377049180327869\n",
      "75 0.8688524590163934\n",
      "76 0.7868852459016393\n",
      "77 0.8524590163934426\n",
      "78 0.8688524590163934\n",
      "79 0.8360655737704918\n",
      "80 0.819672131147541\n",
      "81 0.8688524590163934\n",
      "82 0.819672131147541\n",
      "83 0.8360655737704918\n",
      "84 0.8360655737704918\n",
      "85 0.7540983606557377\n",
      "86 0.8032786885245902\n",
      "87 0.7868852459016393\n",
      "88 0.7704918032786885\n",
      "89 0.7868852459016393\n",
      "90 0.7704918032786885\n",
      "91 0.7377049180327869\n",
      "92 0.8852459016393442\n",
      "93 0.8032786885245902\n",
      "94 0.8360655737704918\n",
      "95 0.8032786885245902\n",
      "96 0.8524590163934426\n",
      "97 0.7540983606557377\n",
      "98 0.8032786885245902\n",
      "99 0.8688524590163934\n"
     ]
    }
   ],
   "source": [
    "for i in range(len(rs)):\n",
    "    print(rs[i],acc[i])"
   ]
  },
  {
   "cell_type": "markdown",
   "metadata": {
    "papermill": {
     "duration": 0.063201,
     "end_time": "2021-04-26T13:23:19.931875",
     "exception": false,
     "start_time": "2021-04-26T13:23:19.868674",
     "status": "completed"
    },
    "tags": []
   },
   "source": [
    "**Observation:** So accuracy the best prediction for Heart Attack chances is 91.8. But with different random state we should rely more on average of all accuracies."
   ]
  },
  {
   "cell_type": "markdown",
   "metadata": {
    "papermill": {
     "duration": 0.071063,
     "end_time": "2021-04-26T13:23:20.064735",
     "exception": false,
     "start_time": "2021-04-26T13:23:19.993672",
     "status": "completed"
    },
    "tags": []
   },
   "source": [
    "# Conclusion: \n",
    "\n",
    "\n",
    "* Numeric Variables - No outliers were found!\n",
    "\n",
    "* High Blood Pressure, High Cholestrol and High Heart Rate leads to high chance of heart attack.\n",
    "\n",
    "* In the count of target showed up that we have more chance of heart attack details.\n",
    "\n",
    "* Age from 40-60 years have the high chance of heart attack.\n",
    "\n",
    "* Male gender has more chance of heart attack compared to female ones.\n",
    "\n",
    "* Highly Correlated factors in this dataset are :\n",
    "    * Age and trtbps (blood pressure rate)\n",
    "    * Age and chol (cholestrol level)"
   ]
  },
  {
   "cell_type": "code",
   "execution_count": null,
   "metadata": {
    "papermill": {
     "duration": 0.074261,
     "end_time": "2021-04-26T13:23:20.212941",
     "exception": false,
     "start_time": "2021-04-26T13:23:20.138680",
     "status": "completed"
    },
    "tags": []
   },
   "outputs": [],
   "source": []
  }
 ],
 "metadata": {
  "kernelspec": {
   "display_name": "Python 3",
   "language": "python",
   "name": "python3"
  },
  "language_info": {
   "codemirror_mode": {
    "name": "ipython",
    "version": 3
   },
   "file_extension": ".py",
   "mimetype": "text/x-python",
   "name": "python",
   "nbconvert_exporter": "python",
   "pygments_lexer": "ipython3",
   "version": "3.8.5"
  },
  "papermill": {
   "default_parameters": {},
   "duration": 39.861942,
   "end_time": "2021-04-26T13:23:21.761254",
   "environment_variables": {},
   "exception": null,
   "input_path": "__notebook__.ipynb",
   "output_path": "__notebook__.ipynb",
   "parameters": {},
   "start_time": "2021-04-26T13:22:41.899312",
   "version": "2.3.3"
  }
 },
 "nbformat": 4,
 "nbformat_minor": 5
}
